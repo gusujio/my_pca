{
 "cells": [
  {
   "cell_type": "code",
   "execution_count": 1,
   "id": "d9fdea0f",
   "metadata": {},
   "outputs": [
    {
     "name": "stdout",
     "output_type": "stream",
     "text": [
      "Populating the interactive namespace from numpy and matplotlib\n"
     ]
    }
   ],
   "source": [
    "import pyedflib\n",
    "import numpy as np\n",
    "import pandas as pd\n",
    "import mne\n",
    "from matplotlib.pyplot import figure\n",
    "%matplotlib inline\n",
    "import matplotlib.pyplot as plt\n",
    "\n",
    "from mne.datasets import eegbci\n",
    "import os\n",
    "from sklearn.pipeline import Pipeline\n",
    "from sklearn.model_selection import ShuffleSplit\n",
    "from mne.decoding import CSP\n",
    "from sklearn.discriminant_analysis import LinearDiscriminantAnalysis as LDA\n",
    "from sklearn.model_selection import cross_val_score\n",
    "import pytorch_lightning as pl\n",
    "from autoreject import AutoReject\n",
    "from scipy.fft import fft, fftfreq, rfft, rfftfreq, irfft\n",
    "import pickle\n",
    "from sklearn.decomposition import PCA\n",
    "from mne.decoding import UnsupervisedSpatialFilter\n",
    "from sklearn.ensemble import RandomForestClassifier\n",
    "\n",
    "%pylab inline"
   ]
  },
  {
   "cell_type": "markdown",
   "id": "d51da2ea",
   "metadata": {},
   "source": [
    "1. чтение файлов\n",
    "2. разбиение на трейн и тест cross_val_score\n",
    "3. уменьшение размерности\n",
    "4. классификация"
   ]
  },
  {
   "cell_type": "markdown",
   "id": "31ff538c",
   "metadata": {},
   "source": [
    "##  Чтение файлов\n",
    "\n",
    "https://mne.tools/dev/generated/mne.datasets.eegbci.load_data.html\n",
    "\n",
    "https://github.com/SpenderJ/Total-perspective-vortex/blob/main/pipeline.py"
   ]
  },
  {
   "cell_type": "code",
   "execution_count": 139,
   "id": "cf2da69e",
   "metadata": {},
   "outputs": [],
   "source": [
    "path = '/Users/ila/Desktop/Python/my projects/total-perspective-vortex/mne_data'\n",
    "runs = [5, 9, 13] # Моторное исполнение: руки vs ноги\n",
    "raw_names = []\n",
    "for sub in range(30,31):\n",
    "    if sub not in [88, 92, 100]: #битые файлы\n",
    "        name = eegbci.load_data(sub, runs, path = path)\n",
    "        raw_names.append(name)"
   ]
  },
  {
   "cell_type": "code",
   "execution_count": 140,
   "id": "9ce3cab7",
   "metadata": {},
   "outputs": [
    {
     "name": "stdout",
     "output_type": "stream",
     "text": [
      "Extracting EDF parameters from /Users/ila/Desktop/Python/my projects/total-perspective-vortex/mne_data/MNE-eegbci-data/files/eegmmidb/1.0.0/S030/S030R05.edf...\n",
      "EDF file detected\n",
      "Setting channel info structure...\n",
      "Creating raw.info structure...\n",
      "Reading 0 ... 19839  =      0.000 ...   123.994 secs...\n",
      "Extracting EDF parameters from /Users/ila/Desktop/Python/my projects/total-perspective-vortex/mne_data/MNE-eegbci-data/files/eegmmidb/1.0.0/S030/S030R09.edf...\n",
      "EDF file detected\n",
      "Setting channel info structure...\n",
      "Creating raw.info structure...\n",
      "Reading 0 ... 19839  =      0.000 ...   123.994 secs...\n",
      "Extracting EDF parameters from /Users/ila/Desktop/Python/my projects/total-perspective-vortex/mne_data/MNE-eegbci-data/files/eegmmidb/1.0.0/S030/S030R13.edf...\n",
      "EDF file detected\n",
      "Setting channel info structure...\n",
      "Creating raw.info structure...\n",
      "Reading 0 ... 19839  =      0.000 ...   123.994 secs...\n"
     ]
    }
   ],
   "source": [
    "# Подгружаем все файлы\n",
    "all_data = []\n",
    "for names in raw_names:\n",
    "    for file in names:\n",
    "        all_data.append(mne.io.read_raw_edf(file, preload=True, stim_channel='auto'))\n",
    "\n",
    "# all_data.append(mne.io.read_raw_edf(raw_names[0][0], preload=True, stim_channel='auto'))"
   ]
  },
  {
   "cell_type": "code",
   "execution_count": 141,
   "id": "eff625f8",
   "metadata": {},
   "outputs": [],
   "source": [
    "# Объединяем в один стэк данных для простоты работы\n",
    "# у нас остались 64 датчика, только теперь они включают в себя объединенную инфу по каждому датчику по всем файлам\n",
    "raw = mne.concatenate_raws(all_data)\n",
    "# Стандартизируйте позиции и названия каналов\n",
    "eegbci.standardize(raw)\n",
    "# убрали точки в названии каналов и насторили порядок"
   ]
  },
  {
   "cell_type": "code",
   "execution_count": 142,
   "id": "f9b4996c",
   "metadata": {},
   "outputs": [
    {
     "data": {
      "text/plain": [
       "(64, 59520)"
      ]
     },
     "execution_count": 142,
     "metadata": {},
     "output_type": "execute_result"
    }
   ],
   "source": [
    "raw.get_data().shape"
   ]
  },
  {
   "cell_type": "code",
   "execution_count": 143,
   "id": "1153d4e4",
   "metadata": {},
   "outputs": [
    {
     "data": {
      "text/plain": [
       "661.3333333333334"
      ]
     },
     "execution_count": 143,
     "metadata": {},
     "output_type": "execute_result"
    }
   ],
   "source": [
    "raw.get_data().shape[1] / 90"
   ]
  },
  {
   "cell_type": "code",
   "execution_count": 144,
   "id": "7d725379",
   "metadata": {},
   "outputs": [
    {
     "data": {
      "text/plain": [
       "118560"
      ]
     },
     "execution_count": 144,
     "metadata": {},
     "output_type": "execute_result"
    }
   ],
   "source": [
    "19680 * 3 + 19840 * 3"
   ]
  },
  {
   "cell_type": "markdown",
   "id": "5e7e439e",
   "metadata": {},
   "source": [
    "Montages содержат положения датчиков в 3D (x, y, z в метрах), которые могут быть назначены существующим данным ЭЭГ / МЭГ. \n",
    "Указывая расположение датчиков относительно мозга, Montages играют важную роль в вычислении прямого решения и обратных оценок.\n",
    "\n",
    "Тут мы стантартизируем Montages в соответвие с обще принятым стандартом standard_1005"
   ]
  },
  {
   "cell_type": "code",
   "execution_count": 145,
   "id": "2ed5960c",
   "metadata": {},
   "outputs": [
    {
     "data": {
      "text/html": [
       "\n",
       "\n",
       "<table class=\"table table-hover\">\n",
       "    <tr>\n",
       "        <th>Measurement date</th>\n",
       "        <td>August 12, 2009  16:15:00 GMT</td>\n",
       "        \n",
       "    </tr>\n",
       "    <tr>\n",
       "        <th>Experimenter</th>\n",
       "<td>Unknown</td>\n",
       "    </tr>\n",
       "        <th>Participant</th>\n",
       "<td>Unknown</td>\n",
       "    </tr>\n",
       "    <tr>\n",
       "        <th>Digitized points</th>\n",
       "        <td>67 points</td>\n",
       "    </tr>\n",
       "    <tr>\n",
       "        <th>Good channels</th>\n",
       "        <td>0 magnetometer, 0 gradiometer,\n",
       "            and 64 EEG channels</td>\n",
       "    </tr>\n",
       "    <tr>\n",
       "        <th>Bad channels</th>\n",
       "        <td></td>\n",
       "        \n",
       "    </tr>\n",
       "    <tr>\n",
       "        <th>EOG channels</th>\n",
       "        <td>Not available</td>\n",
       "    </tr>\n",
       "    <tr>\n",
       "        <th>ECG channels</th>\n",
       "        <td>Not available</td>\n",
       "    <tr>\n",
       "        <th>Sampling frequency</th>\n",
       "        <td>160.00 Hz</td>\n",
       "    </tr>\n",
       "    <tr>\n",
       "        <th>Highpass</th>\n",
       "        <td>0.00 Hz</td>\n",
       "    </tr>\n",
       "     <tr>\n",
       "        <th>Lowpass</th>\n",
       "        <td>80.00 Hz</td>\n",
       "    </tr>\n",
       "\n",
       "    <tr>\n",
       "        <th>Filenames</th>\n",
       "        <td>S030R05.edf, S030R09.edf, S030R13.edf</td>\n",
       "    </tr>\n",
       "    <tr>\n",
       "        <th>Duration</th>\n",
       "        <td>00:06:11 (HH:MM:SS)</td>\n",
       "    </tr>\n",
       "</table>\n"
      ],
      "text/plain": [
       "<RawEDF | S030R05.edf, 64 x 59520 (372.0 s), ~29.2 MB, data loaded>"
      ]
     },
     "execution_count": 145,
     "metadata": {},
     "output_type": "execute_result"
    }
   ],
   "source": [
    "montage = mne.channels.make_standard_montage('standard_1005')\n",
    "raw.set_montage(montage)\n",
    "\n",
    "# raw.filter(7., 30., method='iir') # применяем фильтрацию из прошлого раздела"
   ]
  },
  {
   "cell_type": "markdown",
   "id": "92240251",
   "metadata": {},
   "source": [
    "events - это информация вида [продолждительность (диапазон частот дискритизации)| если указанно, то более детальная инфа про каналы |код метки 'T0', 'T1', 'T2' ]\n",
    "\n",
    "to=1 (отдых)\n",
    "\n",
    "t2=2 (ноги)\n",
    "\n",
    "t1=3 (кулаки)\n"
   ]
  },
  {
   "cell_type": "code",
   "execution_count": 146,
   "id": "0b0e1a1d",
   "metadata": {},
   "outputs": [
    {
     "name": "stdout",
     "output_type": "stream",
     "text": [
      "Used Annotations descriptions: ['T0', 'T1', 'T2']\n"
     ]
    },
    {
     "data": {
      "text/plain": [
       "(array([[   0,    0,    1],\n",
       "        [ 672,    0,    2],\n",
       "        [1328,    0,    1]]),\n",
       " (90, 3))"
      ]
     },
     "execution_count": 146,
     "metadata": {},
     "output_type": "execute_result"
    }
   ],
   "source": [
    "events, _ = mne.events_from_annotations(raw)\n",
    "events[:3], events.shape"
   ]
  },
  {
   "cell_type": "code",
   "execution_count": 147,
   "id": "1c3bf895",
   "metadata": {},
   "outputs": [
    {
     "data": {
      "text/plain": [
       "(58720, 118560)"
      ]
     },
     "execution_count": 147,
     "metadata": {},
     "output_type": "execute_result"
    }
   ],
   "source": [
    "events[-1][0], 118560"
   ]
  },
  {
   "cell_type": "markdown",
   "id": "46ae453f",
   "metadata": {},
   "source": [
    "120 / 30 -время на один эксперемент? 120 сек и 30 заданй"
   ]
  },
  {
   "cell_type": "markdown",
   "id": "3f90ea8d",
   "metadata": {},
   "source": [
    "У нас есть испытуемые, они прошли по 14 эксперементов, мы рассматриваем сейчас только 3 из 14. В каждом из этих эксперементов 30 заданий \n",
    "одинаковой длинны на сжатия рук/ног и отдых, они даются в хаотичном порядке. В каждом из 3 файлов инфа с 64 датчиков. Для простоты мы объединим их в один файл (raw), где будут 64 датчика с последовательно склеиных между собой частот из трех файлов. Дальше разбиваем на events. В нем кажому определенному дипазаону частоты дискретизации соответвует своя команда(рука/нога/отдых. а из этого получаем Эпохи, те подтягиваем реальные данные к меткам. Так как заданий везде по 30 заданий, то времени дается везде одинаково, след-во дипоазон в events везде одинаковый? tmin, tmax для того что бы задать более точный диапазон на эксперемент."
   ]
  },
  {
   "cell_type": "code",
   "execution_count": 148,
   "id": "36a96ad9",
   "metadata": {},
   "outputs": [
    {
     "data": {
      "text/plain": [
       "(661.3333333333334, 656)"
      ]
     },
     "execution_count": 148,
     "metadata": {},
     "output_type": "execute_result"
    }
   ],
   "source": [
    "\"\"\"примерная продолжительность одного эксперемента. объединенная инфа по каждому датчику по всем файлам / на кол-во событий \n",
    "Продолжительность каждого из эксперементов примерно одинакова.\n",
    "\"\"\" \n",
    "raw.get_data().shape[1] / events.shape[0], events[3][0]-events[2][0]"
   ]
  },
  {
   "cell_type": "code",
   "execution_count": 149,
   "id": "7c5a7a68",
   "metadata": {},
   "outputs": [],
   "source": [
    "# pick_types отбирает нам хорошие и плохие каналы \n",
    "# exclude='bads' - добавлять плохие каналы в raw.info['bads']\n",
    "picks = mne.pick_types(raw.info, meg=False, eeg=True, stim=False, eog=False,\n",
    "                   exclude='bads')"
   ]
  },
  {
   "cell_type": "code",
   "execution_count": 150,
   "id": "44a8a9b9",
   "metadata": {},
   "outputs": [
    {
     "data": {
      "text/plain": [
       "(array([ 0,  1,  2,  3,  4,  5,  6,  7,  8,  9, 10, 11, 12, 13, 14, 15, 16,\n",
       "        17, 18, 19, 20, 21, 22, 23, 24, 25, 26, 27, 28, 29, 30, 31, 32, 33,\n",
       "        34, 35, 36, 37, 38, 39, 40, 41, 42, 43, 44, 45, 46, 47, 48, 49, 50,\n",
       "        51, 52, 53, 54, 55, 56, 57, 58, 59, 60, 61, 62, 63]),\n",
       " [])"
      ]
     },
     "execution_count": 150,
     "metadata": {},
     "output_type": "execute_result"
    }
   ],
   "source": [
    "picks, raw.info['bads']"
   ]
  },
  {
   "cell_type": "markdown",
   "id": "29d3c97e",
   "metadata": {},
   "source": [
    "### epochs разделяет данные дескритизации в соответвии с метками классов"
   ]
  },
  {
   "cell_type": "code",
   "execution_count": 151,
   "id": "7a413eca",
   "metadata": {},
   "outputs": [
    {
     "data": {
      "text/plain": [
       "{'rest': 1, 'hands': 2, 'feet': 3}"
      ]
     },
     "execution_count": 151,
     "metadata": {},
     "output_type": "execute_result"
    }
   ],
   "source": [
    "event_ids = dict(rest=1, hands=2, feet=3)\n",
    "event_ids"
   ]
  },
  {
   "cell_type": "code",
   "execution_count": 152,
   "id": "a01095f4",
   "metadata": {},
   "outputs": [
    {
     "name": "stdout",
     "output_type": "stream",
     "text": [
      "Not setting metadata\n",
      "Not setting metadata\n",
      "90 matching events found\n",
      "No baseline correction applied\n",
      "0 projection items activated\n",
      "Loading data for 90 events and 625 original time points ...\n",
      "0 bad epochs dropped\n"
     ]
    }
   ],
   "source": [
    "tmin, tmax = 0.1, 4.\n",
    "epochs = mne.Epochs(raw, events, event_ids,tmin, tmax, picks=picks, preload=True, proj=True, baseline=None)"
   ]
  },
  {
   "cell_type": "code",
   "execution_count": 153,
   "id": "9120f3a5",
   "metadata": {
    "scrolled": true
   },
   "outputs": [
    {
     "data": {
      "text/html": [
       "\n",
       "<table class=\"table table-hover\">\n",
       "    <tr>\n",
       "        <th>Number of events</th>\n",
       "        <td>90</td>\n",
       "    </tr>\n",
       "    <tr>\n",
       "        <th>Events</th>\n",
       "        <td>feet: 23<br>hands: 22<br>rest: 45<br></td>\n",
       "    </tr>\n",
       "    <tr>\n",
       "        <th>Time range</th>\n",
       "        <td>0.100 – 4.000 sec</td>\n",
       "    </tr>\n",
       "    <tr>\n",
       "        <th>Baseline</th>\n",
       "        <td>off</td>\n",
       "    </tr>\n",
       "</table>\n"
      ],
      "text/plain": [
       "<Epochs |  90 events (all good), 0.1 - 4 sec, baseline off, ~27.6 MB, data loaded,\n",
       " 'feet': 23\n",
       " 'hands': 22\n",
       " 'rest': 45>"
      ]
     },
     "execution_count": 153,
     "metadata": {},
     "output_type": "execute_result"
    }
   ],
   "source": [
    "epochs"
   ]
  },
  {
   "cell_type": "code",
   "execution_count": 155,
   "id": "1b83063f",
   "metadata": {},
   "outputs": [],
   "source": [
    "ar = AutoReject() # для автоматического отклонения неудачных испытаний и восстановления неисправных датчиков\n",
    "epochs_clean = ar.fit_transform(epochs) "
   ]
  },
  {
   "cell_type": "code",
   "execution_count": null,
   "id": "9e48cc6f",
   "metadata": {},
   "outputs": [],
   "source": [
    "epochs = epochs_clean"
   ]
  },
  {
   "cell_type": "code",
   "execution_count": 124,
   "id": "4b173925",
   "metadata": {},
   "outputs": [
    {
     "data": {
      "text/plain": [
       "array([1, 3, 1, 2, 1])"
      ]
     },
     "execution_count": 124,
     "metadata": {},
     "output_type": "execute_result"
    }
   ],
   "source": [
    "labels = epochs.events[:, -1] # возращаемся к нашим events и берем от туда целевую переменную \n",
    "labels[:5]"
   ]
  },
  {
   "cell_type": "markdown",
   "id": "18080dd2",
   "metadata": {},
   "source": [
    "данные epochs_data_train имет вид:\n",
    "\n",
    "эксперемент(ступня/калак/отдых) | 64 тдатчика со всей инфой  | частота дискретизации"
   ]
  },
  {
   "cell_type": "code",
   "execution_count": 125,
   "id": "569958bd",
   "metadata": {},
   "outputs": [
    {
     "data": {
      "text/plain": [
       "((2392, 64, 625), 2392)"
      ]
     },
     "execution_count": 125,
     "metadata": {},
     "output_type": "execute_result"
    }
   ],
   "source": [
    "epochs_data_train = epochs.get_data() # \n",
    "epochs_data_train.shape, len(labels)"
   ]
  },
  {
   "cell_type": "code",
   "execution_count": null,
   "id": "70422ad5",
   "metadata": {},
   "outputs": [],
   "source": [
    "# 220 см"
   ]
  },
  {
   "cell_type": "code",
   "execution_count": null,
   "id": "c2b7542f",
   "metadata": {},
   "outputs": [],
   "source": [
    "# 1 и 7 метра "
   ]
  },
  {
   "cell_type": "code",
   "execution_count": 102,
   "id": "135c5cad",
   "metadata": {},
   "outputs": [],
   "source": [
    "# 118560, events[-1][0], 625 * 180"
   ]
  },
  {
   "cell_type": "code",
   "execution_count": 91,
   "id": "6ea50044",
   "metadata": {},
   "outputs": [],
   "source": [
    "# epochs_data_train[0][0]"
   ]
  },
  {
   "cell_type": "markdown",
   "id": "702ad43e",
   "metadata": {},
   "source": [
    "## Фурье преобразование "
   ]
  },
  {
   "cell_type": "code",
   "execution_count": 126,
   "id": "729daf12",
   "metadata": {},
   "outputs": [
    {
     "name": "stderr",
     "output_type": "stream",
     "text": [
      "<ipython-input-126-2562ab359371>:9: RuntimeWarning: divide by zero encountered in true_divide\n",
      "  norm_raw = datchik /  maxs\n",
      "<ipython-input-126-2562ab359371>:9: RuntimeWarning: invalid value encountered in true_divide\n",
      "  norm_raw = datchik /  maxs\n"
     ]
    },
    {
     "ename": "IndexError",
     "evalue": "index 0 is out of bounds for axis 0 with size 0",
     "output_type": "error",
     "traceback": [
      "\u001b[0;31m---------------------------------------------------------------------------\u001b[0m",
      "\u001b[0;31mIndexError\u001b[0m                                Traceback (most recent call last)",
      "\u001b[0;32m<ipython-input-126-2562ab359371>\u001b[0m in \u001b[0;36m<module>\u001b[0;34m\u001b[0m\n\u001b[1;32m      9\u001b[0m         \u001b[0mnorm_raw\u001b[0m \u001b[0;34m=\u001b[0m \u001b[0mdatchik\u001b[0m \u001b[0;34m/\u001b[0m  \u001b[0mmaxs\u001b[0m\u001b[0;34m\u001b[0m\u001b[0;34m\u001b[0m\u001b[0m\n\u001b[1;32m     10\u001b[0m         \u001b[0;32mif\u001b[0m \u001b[0;32mnot\u001b[0m \u001b[0mnp\u001b[0m\u001b[0;34m.\u001b[0m\u001b[0misfinite\u001b[0m\u001b[0;34m(\u001b[0m\u001b[0mnorm_raw\u001b[0m\u001b[0;34m)\u001b[0m\u001b[0;34m.\u001b[0m\u001b[0mall\u001b[0m\u001b[0;34m(\u001b[0m\u001b[0;34m)\u001b[0m\u001b[0;34m:\u001b[0m\u001b[0;34m\u001b[0m\u001b[0;34m\u001b[0m\u001b[0m\n\u001b[0;32m---> 11\u001b[0;31m             \u001b[0mmas2\u001b[0m \u001b[0;34m=\u001b[0m \u001b[0mnp\u001b[0m\u001b[0;34m.\u001b[0m\u001b[0mvstack\u001b[0m\u001b[0;34m(\u001b[0m\u001b[0;34m(\u001b[0m\u001b[0mmas2\u001b[0m\u001b[0;34m,\u001b[0m \u001b[0mnp\u001b[0m\u001b[0;34m.\u001b[0m\u001b[0marray\u001b[0m\u001b[0;34m(\u001b[0m\u001b[0;34m[\u001b[0m\u001b[0;36m0\u001b[0m\u001b[0;34m]\u001b[0m \u001b[0;34m*\u001b[0m \u001b[0mlen\u001b[0m\u001b[0;34m(\u001b[0m\u001b[0mmas2\u001b[0m\u001b[0;34m[\u001b[0m\u001b[0;36m0\u001b[0m\u001b[0;34m]\u001b[0m\u001b[0;34m)\u001b[0m\u001b[0;34m)\u001b[0m\u001b[0;34m)\u001b[0m\u001b[0;34m)\u001b[0m\u001b[0;34m\u001b[0m\u001b[0;34m\u001b[0m\u001b[0m\n\u001b[0m\u001b[1;32m     12\u001b[0m             \u001b[0;32mcontinue\u001b[0m\u001b[0;34m\u001b[0m\u001b[0;34m\u001b[0m\u001b[0m\n\u001b[1;32m     13\u001b[0m         \u001b[0myf\u001b[0m \u001b[0;34m=\u001b[0m \u001b[0mrfft\u001b[0m\u001b[0;34m(\u001b[0m\u001b[0mnorm_raw\u001b[0m\u001b[0;34m)\u001b[0m\u001b[0;34m\u001b[0m\u001b[0;34m\u001b[0m\u001b[0m\n",
      "\u001b[0;31mIndexError\u001b[0m: index 0 is out of bounds for axis 0 with size 0"
     ]
    }
   ],
   "source": [
    "SAMPLE_RATE = 160 #частота дискретизации \n",
    "DURATION = tmax - tmin # продолжитьельность в секундах\n",
    "N = int(SAMPLE_RATE * DURATION)\n",
    "mas1 = []\n",
    "for exper in epochs_data_train:\n",
    "    mas2 = np.array([])\n",
    "    for datchik in exper:\n",
    "        maxs = datchik.max()\n",
    "        norm_raw = datchik /  maxs\n",
    "        if not np.isfinite(norm_raw).all():\n",
    "            mas2 = np.vstack((mas2, np.array([0] * len(mas2[0]))))\n",
    "            continue\n",
    "        yf = rfft(norm_raw)\n",
    "        xf = rfftfreq(N, 1 / SAMPLE_RATE) \n",
    "        yf2 = [0 if np.abs(i) < 10 else i for i in yf]\n",
    "        new_sig = irfft(yf2)\n",
    "        if len(mas2) == 0:\n",
    "            mas2 = new_sig * maxs\n",
    "        else:\n",
    "            mas2 = np.vstack((mas2, new_sig * maxs))\n",
    "    mas1.append(mas2)\n",
    "mas1 = np.array(mas1)"
   ]
  },
  {
   "cell_type": "code",
   "execution_count": 24,
   "id": "912a9484",
   "metadata": {},
   "outputs": [],
   "source": [
    "epochs_data_train = mas1"
   ]
  },
  {
   "cell_type": "code",
   "execution_count": null,
   "id": "2ed115b2",
   "metadata": {},
   "outputs": [],
   "source": [
    "mas1.shape"
   ]
  },
  {
   "cell_type": "markdown",
   "id": "9be326d0",
   "metadata": {},
   "source": [
    "## Построение Pipeline\n",
    "\n",
    "1. разбраться с cross_val_score\n",
    "2.  разбраться с CSP уменьшает размерность? \n",
    "3.  разбраться с LDA предсказательная модель \n",
    "\n",
    "LDA - Линейный дискриминантный анализ - алгоритм машинного обучения классификации.\n",
    "https://machinelearningmastery.com/linear-discriminant-analysis-with-python/"
   ]
  },
  {
   "cell_type": "markdown",
   "id": "9b6b1d6b",
   "metadata": {},
   "source": [
    "# Должны быть разнве pipeline, для обучения и для предсказания  \n",
    "Работа на pipeline c предсказанием должна быть не больше 2 секнд\n",
    "\n",
    "Результат обучения на всей выборке должен быть от >= 75 %, но что бы получть максимум былов нужно больше 90%"
   ]
  },
  {
   "cell_type": "code",
   "execution_count": 26,
   "id": "1c973cca",
   "metadata": {},
   "outputs": [
    {
     "name": "stderr",
     "output_type": "stream",
     "text": [
      "Global seed set to 42\n"
     ]
    }
   ],
   "source": [
    "SEED = 42\n",
    "pl.seed_everything(SEED)\n",
    "random.seed(SEED)\n",
    "np.random.seed(SEED)\n",
    "random.seed(SEED)"
   ]
  },
  {
   "cell_type": "code",
   "execution_count": 67,
   "id": "e8418736",
   "metadata": {},
   "outputs": [],
   "source": [
    "cv = ShuffleSplit(1, test_size=0.3, random_state=42)\n",
    "lda = LDA()\n",
    "csp = CSP(n_components=4, reg=None, log=True, norm_trace=False)"
   ]
  },
  {
   "cell_type": "code",
   "execution_count": 39,
   "id": "e06dd33c",
   "metadata": {},
   "outputs": [],
   "source": [
    "# clf = Pipeline([('CSP', csp), ('LDA', lda)])\n",
    "# clf.fit(epochs_data_train, labels)"
   ]
  },
  {
   "cell_type": "code",
   "execution_count": 38,
   "id": "210b937b",
   "metadata": {},
   "outputs": [
    {
     "data": {
      "text/plain": [
       "array([1, 1, 1, ..., 1, 1, 1])"
      ]
     },
     "execution_count": 38,
     "metadata": {},
     "output_type": "execute_result"
    }
   ],
   "source": [
    "clf.predict(epochs_data_train)"
   ]
  },
  {
   "cell_type": "code",
   "execution_count": 36,
   "id": "b870ad7e",
   "metadata": {},
   "outputs": [
    {
     "data": {
      "text/plain": [
       "(0.5092592592592593, 0.011328987866673171)"
      ]
     },
     "execution_count": 36,
     "metadata": {},
     "output_type": "execute_result"
    }
   ],
   "source": [
    "clf = Pipeline([('CSP', csp), ('LDA', lda)])\n",
    "scores_lda = cross_val_score(clf, epochs_data_train, labels, cv=cv, n_jobs=-1)\n",
    "mean_scores_lda, std_scores_lda = np.mean(scores_lda), np.std(scores_lda)\n",
    "mean_scores_lda, std_scores_lda"
   ]
  },
  {
   "cell_type": "code",
   "execution_count": null,
   "id": "2aecd4d7",
   "metadata": {},
   "outputs": [],
   "source": [
    "rfc = RandomForestClassifier()\n",
    "crf = Pipeline([('CSP', csp), ('RFC', rfc)])\n",
    "scores_crf = cross_val_score(crf, epochs_data_train, labels, cv=cv, n_jobs=-1)\n",
    "mean_scores_crf, std_scores_crf = np.mean(scores_crf), np.std(scores_crf)\n",
    "mean_scores_crf, std_scores_crf"
   ]
  },
  {
   "cell_type": "code",
   "execution_count": 59,
   "id": "9e4ac470",
   "metadata": {},
   "outputs": [],
   "source": [
    "class Reshape:\n",
    "    def fit(self, data, lab = None):\n",
    "        pass\n",
    "        \n",
    "    def transform(self, data = None):\n",
    "        lens = len(data)\n",
    "        return data.reshape(lens, -1)\n",
    "    \n",
    "    def fit_transform(self, data, lab = None):\n",
    "        self.fit(data)\n",
    "        return self.transform(data)\n",
    "    "
   ]
  },
  {
   "cell_type": "code",
   "execution_count": null,
   "id": "996fafcc",
   "metadata": {},
   "outputs": [],
   "source": []
  },
  {
   "cell_type": "code",
   "execution_count": 60,
   "id": "c3707947",
   "metadata": {},
   "outputs": [],
   "source": [
    "from pca import My_PCA\n"
   ]
  },
  {
   "cell_type": "code",
   "execution_count": 156,
   "id": "2c34a2f4",
   "metadata": {},
   "outputs": [
    {
     "data": {
      "text/plain": [
       "(1210, 64, 625)"
      ]
     },
     "execution_count": 156,
     "metadata": {},
     "output_type": "execute_result"
    }
   ],
   "source": [
    "data_hand_feet = epochs_data_train[np.logical_or(labels == 3, labels == 2)]\n",
    "data_hand_feet.shape"
   ]
  },
  {
   "cell_type": "code",
   "execution_count": 157,
   "id": "91cad16a",
   "metadata": {},
   "outputs": [
    {
     "data": {
      "text/plain": [
       "1210"
      ]
     },
     "execution_count": 157,
     "metadata": {},
     "output_type": "execute_result"
    }
   ],
   "source": [
    "label_hand_feet =[1 if i == 2 else 0 for i in labels[np.logical_or(labels == 3, labels == 2)]]\n",
    "len(label_hand_feet)"
   ]
  },
  {
   "cell_type": "code",
   "execution_count": null,
   "id": "43621bed",
   "metadata": {},
   "outputs": [],
   "source": [
    "# label_hand_feet"
   ]
  },
  {
   "cell_type": "code",
   "execution_count": null,
   "id": "138cba42",
   "metadata": {},
   "outputs": [],
   "source": [
    "# epochs_data_train"
   ]
  },
  {
   "cell_type": "markdown",
   "id": "534bc864",
   "metadata": {},
   "source": [
    "максимальные значения были под 0.55 - это без каких либо фильтраций)))"
   ]
  },
  {
   "cell_type": "code",
   "execution_count": 164,
   "id": "c738d50a",
   "metadata": {},
   "outputs": [
    {
     "name": "stdout",
     "output_type": "stream",
     "text": [
      "CPU times: user 193 ms, sys: 815 ms, total: 1.01 s\n",
      "Wall time: 8.83 s\n"
     ]
    },
    {
     "data": {
      "text/plain": [
       "(0.5977961432506887, 0.0)"
      ]
     },
     "execution_count": 164,
     "metadata": {},
     "output_type": "execute_result"
    }
   ],
   "source": [
    "%%time\n",
    "\n",
    "pca = UnsupervisedSpatialFilter(PCA(15))\n",
    "resh = Reshape()\n",
    "pca2 = PCA(n_components=15, random_state=42)\n",
    "pld = Pipeline([('PCA', pca), ('Reshape', resh),('PCA2', pca2), ('LDA', lda)])\n",
    "scores_pld = cross_val_score(pld, data_hand_feet, label_hand_feet, cv=cv, n_jobs=-1)\n",
    "mean_scores_pld, std_scores_pld = np.mean(scores_pld), np.std(scores_pld)\n",
    "mean_scores_pld, std_scores_pld"
   ]
  },
  {
   "cell_type": "code",
   "execution_count": 162,
   "id": "4507325d",
   "metadata": {},
   "outputs": [],
   "source": [
    "with open('my_model.pickle', 'wb') as f:\n",
    "    pickle.dump(pld, f)"
   ]
  },
  {
   "cell_type": "code",
   "execution_count": 66,
   "id": "d76ae9ba",
   "metadata": {},
   "outputs": [
    {
     "data": {
      "text/plain": [
       "((45, 64, 625), 45)"
      ]
     },
     "execution_count": 66,
     "metadata": {},
     "output_type": "execute_result"
    }
   ],
   "source": [
    "data_hand_feet.shape, len(label_hand_feet)"
   ]
  },
  {
   "cell_type": "markdown",
   "id": "b7f1767a",
   "metadata": {},
   "source": [
    "1. Разобраться с PCA\n",
    "2. Доделать бонусы\n",
    "3. Сдать проект"
   ]
  },
  {
   "cell_type": "code",
   "execution_count": null,
   "id": "0ca02f0f",
   "metadata": {},
   "outputs": [],
   "source": [
    "# !pip install pytorch_lightning"
   ]
  },
  {
   "cell_type": "code",
   "execution_count": null,
   "id": "3131649b",
   "metadata": {},
   "outputs": [],
   "source": [
    "%%time\n",
    "pl.seed_everything(SEED)\n",
    "random.seed(SEED)\n",
    "np.random.seed(SEED)\n",
    "random.seed(SEED)\n",
    "\n",
    "pca = UnsupervisedSpatialFilter(PCA(10))\n",
    "resh = Reshape()\n",
    "my_pca = My_PCA(n_components=35)\n",
    "pld = Pipeline([('PCA', pca), ('Reshape', resh),('My_PCA', my_pca), ('LDA', lda)])\n",
    "scores_pld = cross_val_score(pld, epochs_data_train, labels, cv=cv, n_jobs=-1)\n",
    "mean_scores_pld, std_scores_pld = np.mean(scores_pld), np.std(scores_pld)\n",
    "mean_scores_pld, std_scores_pld"
   ]
  },
  {
   "cell_type": "code",
   "execution_count": null,
   "id": "4e00ba9f",
   "metadata": {},
   "outputs": [],
   "source": [
    "epochs_data_train.shape"
   ]
  },
  {
   "cell_type": "code",
   "execution_count": null,
   "id": "0160f26e",
   "metadata": {},
   "outputs": [],
   "source": [
    "# filter(lambda v: v==v, x)"
   ]
  },
  {
   "cell_type": "code",
   "execution_count": null,
   "id": "ae14a323",
   "metadata": {},
   "outputs": [],
   "source": [
    "pca = UnsupervisedSpatialFilter(PCA(10))\n",
    "pca_data = pca.fit_transform(data_hand_feet)\n",
    "pca_data.shape"
   ]
  },
  {
   "cell_type": "code",
   "execution_count": null,
   "id": "98a7cda0",
   "metadata": {},
   "outputs": [],
   "source": [
    "resh = Reshape()\n",
    "pca_data_resh = resh.fit_transform(pca_data)\n",
    "pca_data_resh.shape"
   ]
  },
  {
   "cell_type": "code",
   "execution_count": null,
   "id": "4d73796c",
   "metadata": {},
   "outputs": [],
   "source": [
    "pca2 = PCA(n_components=35)\n",
    "pca_data_resh_pc = pca2.fit_transform(pca_data_resh)\n",
    "pca_data_resh_pc.shape"
   ]
  },
  {
   "cell_type": "code",
   "execution_count": null,
   "id": "191ccb77",
   "metadata": {},
   "outputs": [],
   "source": []
  },
  {
   "cell_type": "code",
   "execution_count": null,
   "id": "b01352d6",
   "metadata": {},
   "outputs": [],
   "source": [
    "label_hand_feet"
   ]
  },
  {
   "cell_type": "code",
   "execution_count": null,
   "id": "0f70184f",
   "metadata": {},
   "outputs": [],
   "source": [
    "signs = [1 if i >= 0 else -1 for i in pca_data_resh_pc[0]]\n",
    "len(signs)"
   ]
  },
  {
   "cell_type": "code",
   "execution_count": null,
   "id": "18f89d92",
   "metadata": {},
   "outputs": [],
   "source": [
    "pca_data_resh_pc"
   ]
  },
  {
   "cell_type": "code",
   "execution_count": null,
   "id": "995f19b3",
   "metadata": {},
   "outputs": [],
   "source": [
    "my_pca = My_PCA(n_components=35)\n",
    "pca_data_resh_my = my_pca.fit_transform(pca_data_resh)\n",
    "pca_data_resh_my.shape"
   ]
  },
  {
   "cell_type": "code",
   "execution_count": null,
   "id": "ccc59c7b",
   "metadata": {},
   "outputs": [],
   "source": [
    "1 + 1"
   ]
  },
  {
   "cell_type": "code",
   "execution_count": null,
   "id": "eb0fc0af",
   "metadata": {},
   "outputs": [],
   "source": [
    "from sklearn.metrics import accuracy_score"
   ]
  },
  {
   "cell_type": "code",
   "execution_count": null,
   "id": "ae84df05",
   "metadata": {},
   "outputs": [],
   "source": [
    "pca_data_resh_pc"
   ]
  },
  {
   "cell_type": "code",
   "execution_count": null,
   "id": "de0b2ffe",
   "metadata": {},
   "outputs": [],
   "source": [
    "for i in range(len(pca_data_resh_my)):\n",
    "    for j in range(len(pca_data_resh_my[i])):\n",
    "        if pca_data_resh_pc[i][j] >= 0:\n",
    "            pca_data_resh_my[i][j] = abs(pca_data_resh_my[i][j])\n",
    "        else:\n",
    "            pca_data_resh_my[i][j] = -abs(pca_data_resh_my[i][j])\n",
    "pca_data_resh_my               "
   ]
  },
  {
   "cell_type": "code",
   "execution_count": null,
   "id": "faec1690",
   "metadata": {},
   "outputs": [],
   "source": [
    "lda.fit(pca_data_resh_my[:2200], labels[:2200])\n",
    "accuracy_score(lda.predict(pca_data_resh_my[2200:]), labels[2200:])"
   ]
  },
  {
   "cell_type": "code",
   "execution_count": null,
   "id": "a3115917",
   "metadata": {},
   "outputs": [],
   "source": [
    "pca_data_resh_pc.shape"
   ]
  },
  {
   "cell_type": "code",
   "execution_count": null,
   "id": "97d7e3cc",
   "metadata": {},
   "outputs": [],
   "source": [
    "lda.fit(pca_data_resh_pc[:35], label_hand_feet[:35])\n",
    "accuracy_score(lda.predict(pca_data_resh_pc[35:]), label_hand_feet[35:])"
   ]
  },
  {
   "cell_type": "markdown",
   "id": "6be8c228",
   "metadata": {},
   "source": [
    "# Бонусы \n",
    "Их всего 3 пункта, так что надо выполнить каждый из них\n",
    "1. Провести обучение и все эти процедуры на другом эксперементе\n",
    "2. Хороший препроцесинг является плюсом, преобразование Фурье и Вейвлета\n",
    "\n",
    "https://proglib.io/p/preobrazovaniya-fure-dlya-obrabotki-signalov-s-pomoshchyu-python-2020-11-03\n",
    "\n",
    "3. Вроде как тут все ок, ты реализовал собственную коварационную матрицу "
   ]
  },
  {
   "cell_type": "markdown",
   "id": "afd567fb",
   "metadata": {},
   "source": [
    "## Визуализация"
   ]
  },
  {
   "cell_type": "code",
   "execution_count": null,
   "id": "52261c56",
   "metadata": {},
   "outputs": [],
   "source": [
    "from sklearn import manifold"
   ]
  },
  {
   "cell_type": "markdown",
   "id": "c0b4ac7c",
   "metadata": {},
   "source": [
    "### CSP"
   ]
  },
  {
   "cell_type": "code",
   "execution_count": null,
   "id": "87664057",
   "metadata": {},
   "outputs": [],
   "source": [
    "data_2d_csp = csp.fit_transform(epochs_data_train, labels)\n",
    "fig, ax = plt.subplots(figsize=(10,6))\n",
    "classes = ['rest', 'feet', 'hands']\n",
    "scatter = ax.scatter(data_2d_csp[:, 0], data_2d_csp[:, 1], c=labels)\n",
    "plt.legend(handles=scatter.legend_elements()[0], labels=classes)"
   ]
  },
  {
   "cell_type": "markdown",
   "id": "54b9630e",
   "metadata": {},
   "source": [
    "### TSNE"
   ]
  },
  {
   "cell_type": "code",
   "execution_count": null,
   "id": "ee5cb829",
   "metadata": {},
   "outputs": [],
   "source": [
    "nsamples, nx, ny = epochs_data_train.shape\n",
    "d2_epochs_data_train = epochs_data_train.reshape((nsamples,nx*ny))"
   ]
  },
  {
   "cell_type": "code",
   "execution_count": null,
   "id": "3923e66f",
   "metadata": {},
   "outputs": [],
   "source": [
    "tsne = manifold.TSNE(n_components = 2, random_state = 0)\n",
    "data_2d_tsne = tsne.fit_transform(d2_epochs_data_train, labels)"
   ]
  },
  {
   "cell_type": "code",
   "execution_count": null,
   "id": "a13566bc",
   "metadata": {},
   "outputs": [],
   "source": [
    "pylab.figure(figsize = (10, 6))\n",
    "pylab.scatter(data_2d_tsne[:, 0], data_2d_tsne[:, 1], c = labels)"
   ]
  },
  {
   "cell_type": "code",
   "execution_count": null,
   "id": "d98f3cde",
   "metadata": {},
   "outputs": [],
   "source": []
  }
 ],
 "metadata": {
  "kernelspec": {
   "display_name": "Python 3",
   "language": "python",
   "name": "python3"
  },
  "language_info": {
   "codemirror_mode": {
    "name": "ipython",
    "version": 3
   },
   "file_extension": ".py",
   "mimetype": "text/x-python",
   "name": "python",
   "nbconvert_exporter": "python",
   "pygments_lexer": "ipython3",
   "version": "3.8.8"
  }
 },
 "nbformat": 4,
 "nbformat_minor": 5
}
